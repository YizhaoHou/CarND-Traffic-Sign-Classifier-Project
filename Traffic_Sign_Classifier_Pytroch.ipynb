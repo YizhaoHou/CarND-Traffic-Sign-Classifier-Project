{
 "cells": [
  {
   "cell_type": "code",
   "execution_count": 1,
   "metadata": {},
   "outputs": [],
   "source": [
    "import numpy as np\n",
    "import pickle\n",
    "import torch\n",
    "import torch.nn as nn\n",
    "import torchvision\n",
    "import torchvision.transforms as transforms\n",
    "from torchvision import datasets\n",
    "from torch.utils.data import DataLoader, random_split"
   ]
  },
  {
   "cell_type": "code",
   "execution_count": 2,
   "metadata": {},
   "outputs": [],
   "source": [
    "training_file = 'TrainingData.pkl'\n",
    "testing_file= 'TestData.pkl'\n",
    "# testing_file = ?\n",
    "\n",
    "with open(training_file, mode='rb') as f:\n",
    "    train = pickle.load(f)\n",
    "# with open(validation_file, mode='rb') as f:\n",
    "#     valid = pickle.load(f)\n",
    "with open(testing_file, mode='rb') as f:\n",
    "    test = pickle.load(f)\n",
    "    \n",
    "X_train, y_train = torch.tensor(train['features']), torch.tensor(train['labels'])\n",
    "# X_valid, y_valid = valid['features'], valid['labels']\n",
    "X_test, y_test = torch.tensor(test['features']), torch.tensor(test['labels'])"
   ]
  },
  {
   "cell_type": "code",
   "execution_count": 3,
   "metadata": {},
   "outputs": [],
   "source": [
    "transform = transforms.Compose([transforms.Resize((32,32)),\n",
    "    transforms.ToTensor(),\n",
    "    transforms.Normalize((0.5,), (0.5,))  \n",
    "])\n",
    "\n",
    "dataset = datasets.ImageFolder(root='Training', transform=transform)\n",
    "total = len(dataset)\n",
    "train_c = 0.85 * len(dataset)\n",
    "valid_c = 0.15 * len(dataset)\n",
    "\n",
    "train_data, valid_data = random_split(dataset,[int(train_c),int(valid_c)])\n",
    "trainloader = torch.utils.data.DataLoader(train_data, batch_size=128,shuffle=True)\n",
    "valid_loader = DataLoader(valid_data, batch_size=1, shuffle=True)"
   ]
  },
  {
   "cell_type": "markdown",
   "metadata": {},
   "source": [
    "## Build Model"
   ]
  },
  {
   "cell_type": "code",
   "execution_count": 4,
   "metadata": {},
   "outputs": [],
   "source": [
    "class CNN(nn.Module):\n",
    "    def __init__(self, *args, **kwargs) -> None:\n",
    "        super().__init__(*args, **kwargs)\n",
    "\n",
    "        self.cnn1 = nn.Conv2d(in_channels= 3, out_channels= 6, kernel_size= 2, padding=1)\n",
    "        self.maxpool1 = nn.MaxPool2d(kernel_size=2, stride = 1,padding=0)\n",
    "\n",
    "        self.cnn2 = nn.Conv2d(in_channels= 6, out_channels= 8, kernel_size= 2, padding=2, stride=1 )\n",
    "        self.maxpool2 = nn.MaxPool2d(kernel_size=4, stride=1)\n",
    "\n",
    "        self.fc1 = nn.Linear(16384//2,43)\n",
    "    \n",
    "\n",
    "    def forward(self,x):\n",
    "        x = self.cnn1(x)\n",
    "        x = torch.relu(x)\n",
    "        x = self.maxpool1(x)\n",
    "\n",
    "        x = self.cnn2(x)\n",
    "        x = torch.relu(x)\n",
    "        x = self.maxpool2(x)\n",
    "        x = x.view(x.size(0), -1)\n",
    "        x = self.fc1(x)\n",
    "        return x\n",
    "    \n",
    "    def activations(self,x):\n",
    "        z1 = self.cnn1(x)\n",
    "        a1 = torch.relu(x)\n",
    "        out = self.maxpoo1(a1)\n",
    "\n",
    "        z2 = self.cnn2(out)\n",
    "        a2 = torch.relu(z2)\n",
    "        out = out.view(out.size(0),-1)\n",
    "        return z1,a1, z2, a2, out\n"
   ]
  },
  {
   "cell_type": "code",
   "execution_count": 5,
   "metadata": {},
   "outputs": [
    {
     "name": "stdout",
     "output_type": "stream",
     "text": [
      "True\n"
     ]
    }
   ],
   "source": [
    "model = CNN()\n",
    "model\n",
    "if torch.cuda.is_available():\n",
    "    print(True)\n",
    "    model = model.cuda()\n",
    "else:\n",
    "    print(\"Cuda is not avaliable\")"
   ]
  },
  {
   "cell_type": "markdown",
   "metadata": {},
   "source": []
  },
  {
   "cell_type": "code",
   "execution_count": 6,
   "metadata": {},
   "outputs": [],
   "source": [
    "criterion = nn.CrossEntropyLoss()\n",
    "learning_rate = 0.001\n",
    "optimizer = torch.optim.Adam(model.parameters(), lr = learning_rate)"
   ]
  },
  {
   "cell_type": "code",
   "execution_count": 8,
   "metadata": {},
   "outputs": [
    {
     "name": "stdout",
     "output_type": "stream",
     "text": [
      "Epoch 1/10 -Valid Accuracy: 0.0073\n",
      "Epoch 1/10 - Loss: 378.9187, Accuracy: 0.4284\n",
      "Epoch 2/10 -Valid Accuracy: 0.7062\n",
      "Epoch 2/10 - Loss: 128.6569, Accuracy: 0.7984\n",
      "Epoch 3/10 -Valid Accuracy: 0.8654\n",
      "Epoch 3/10 - Loss: 73.8361, Accuracy: 0.8910\n",
      "Epoch 4/10 -Valid Accuracy: 0.9117\n",
      "Epoch 4/10 - Loss: 52.4091, Accuracy: 0.9204\n",
      "Epoch 5/10 -Valid Accuracy: 0.9219\n",
      "Epoch 5/10 - Loss: 40.2290, Accuracy: 0.9390\n",
      "Epoch 6/10 -Valid Accuracy: 0.9387\n",
      "Epoch 6/10 - Loss: 32.3752, Accuracy: 0.9502\n",
      "Epoch 7/10 -Valid Accuracy: 0.9552\n",
      "Epoch 7/10 - Loss: 28.1550, Accuracy: 0.9565\n",
      "Epoch 8/10 -Valid Accuracy: 0.9552\n",
      "Epoch 8/10 - Loss: 24.0451, Accuracy: 0.9645\n",
      "Epoch 9/10 -Valid Accuracy: 0.9429\n",
      "Epoch 9/10 - Loss: 20.0505, Accuracy: 0.9685\n",
      "Epoch 10/10 -Valid Accuracy: 0.9602\n",
      "Epoch 10/10 - Loss: 16.4095, Accuracy: 0.9763\n"
     ]
    }
   ],
   "source": [
    "for epoch in range(10):  # 遍历数据集多次\n",
    "    \n",
    "    running_loss = 0.0\n",
    "    total_samples = 0\n",
    "    running_corrects= 0\n",
    "    Valid_accuracy = 0\n",
    "    with torch.no_grad():\n",
    "        for inputs, labels in valid_loader:\n",
    "            inputs, labels = inputs.to('cuda'), labels.to('cuda')\n",
    "\n",
    "            z = model(inputs)\n",
    "            _, preds = torch.max(z, 1)\n",
    "            Valid_accuracy += (preds == labels).sum().item()\n",
    "        Valid_accuracy = Valid_accuracy/(len(valid_data))\n",
    "        print(f'Epoch {epoch+1}/{10} -Valid Accuracy: {Valid_accuracy:.4f}')\n",
    "    for inputs, labels in trainloader:\n",
    "        inputs, labels = inputs.to('cuda'), labels.to('cuda')\n",
    "\n",
    "        optimizer.zero_grad()  \n",
    "\n",
    "        outputs = model(inputs)  \n",
    "        loss = criterion(outputs, labels) \n",
    "        loss.backward()  \n",
    "        optimizer.step() \n",
    "        _, preds = torch.max(outputs, 1)\n",
    "        total_samples += inputs.size(0)\n",
    "        running_corrects += torch.sum(preds == labels.data)\n",
    "\n",
    "\n",
    "        running_loss += loss.item()\n",
    "    epoch_acc = running_corrects.double() / len(train_data)\n",
    "    print(f'Epoch {epoch+1}/{10} - Loss: {running_loss:.4f}, Accuracy: {epoch_acc:.4f}')\n",
    "    Valid_accuracy = 0\n",
    "\n",
    "\n",
    "\n",
    "\n"
   ]
  },
  {
   "cell_type": "code",
   "execution_count": null,
   "metadata": {},
   "outputs": [],
   "source": []
  }
 ],
 "metadata": {
  "kernelspec": {
   "display_name": "Python 3",
   "language": "python",
   "name": "python3"
  },
  "language_info": {
   "codemirror_mode": {
    "name": "ipython",
    "version": 3
   },
   "file_extension": ".py",
   "mimetype": "text/x-python",
   "name": "python",
   "nbconvert_exporter": "python",
   "pygments_lexer": "ipython3",
   "version": "3.11.9"
  }
 },
 "nbformat": 4,
 "nbformat_minor": 2
}
