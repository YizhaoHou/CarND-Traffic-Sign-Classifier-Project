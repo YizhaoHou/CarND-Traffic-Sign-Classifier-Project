{
 "cells": [
  {
   "cell_type": "code",
   "execution_count": 1,
   "metadata": {},
   "outputs": [],
   "source": [
    "import numpy as np\n",
    "import pickle\n",
    "import torch\n",
    "import torch.nn as nn"
   ]
  },
  {
   "cell_type": "code",
   "execution_count": 7,
   "metadata": {},
   "outputs": [],
   "source": [
    "training_file = 'TrainingData.pkl'\n",
    "testing_file= 'TestData.pkl'\n",
    "# testing_file = ?\n",
    "\n",
    "with open(training_file, mode='rb') as f:\n",
    "    train = pickle.load(f)\n",
    "# with open(validation_file, mode='rb') as f:\n",
    "#     valid = pickle.load(f)\n",
    "with open(testing_file, mode='rb') as f:\n",
    "    test = pickle.load(f)\n",
    "    \n",
    "X_train, y_train = torch.tensor(train['features']), torch.tensor(train['labels'])\n",
    "# X_valid, y_valid = valid['features'], valid['labels']\n",
    "X_test, y_test = torch.tensor(test['features']), torch.tensor(test['labels'])"
   ]
  },
  {
   "cell_type": "markdown",
   "metadata": {},
   "source": [
    "## Build Model"
   ]
  },
  {
   "cell_type": "code",
   "execution_count": 2,
   "metadata": {},
   "outputs": [],
   "source": [
    "class CNN(nn.Module):\n",
    "    def __init__(self, *args, **kwargs) -> None:\n",
    "        super().__init__(*args, **kwargs)\n",
    "\n",
    "        self.cnn1 = nn.Conv2d(in_channels= 3, out_channels= 8, kernel_size= 2, padding=1)\n",
    "        self.maxpool1 = nn.MaxPool2d(kernel_size=2, stride = 1,padding=0)\n",
    "\n",
    "        self.cnn2 = nn.Conv2d(in_channels= 8, out_channels= 16, kernel_size= 2, padding=2, stride=1 )\n",
    "        self.maxpool2 = nn.MaxPool2d(kernel_size=4, stride=1)\n",
    "\n",
    "        self.fc1 = nn.Linear(32*32,43)\n",
    "    \n",
    "\n",
    "    def forward(self,x):\n",
    "        x = self.cnn1(x)\n",
    "        x = torch.relu(x)\n",
    "        x = self.maxpool1(x)\n",
    "\n",
    "        x = self.cnn2(x)\n",
    "        x = torch.relu(x)\n",
    "        x = self.maxpool2(x)\n",
    "        x = x.view(x.size(0), -1)\n",
    "        x = self.fc1()\n",
    "        return x\n",
    "    \n",
    "    def activations(self,x):\n",
    "        z1 = self.cnn1(x)\n",
    "        a1 = torch.relu(x)\n",
    "        out = self.maxpoo1(a1)\n",
    "\n",
    "        z2 = self.cnn2(out)\n",
    "        a2 = torch.relu(z2)\n",
    "        out = out.view(out.size(0),-1)\n",
    "        return z1,a1, z2, a2, out\n"
   ]
  },
  {
   "cell_type": "code",
   "execution_count": null,
   "metadata": {},
   "outputs": [],
   "source": []
  }
 ],
 "metadata": {
  "kernelspec": {
   "display_name": "Python 3",
   "language": "python",
   "name": "python3"
  },
  "language_info": {
   "codemirror_mode": {
    "name": "ipython",
    "version": 3
   },
   "file_extension": ".py",
   "mimetype": "text/x-python",
   "name": "python",
   "nbconvert_exporter": "python",
   "pygments_lexer": "ipython3",
   "version": "3.11.9"
  }
 },
 "nbformat": 4,
 "nbformat_minor": 2
}
